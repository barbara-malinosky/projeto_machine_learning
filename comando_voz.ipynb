{
 "cells": [
  {
   "cell_type": "markdown",
   "metadata": {},
   "source": [
    "# Speech Recognition"
   ]
  },
  {
   "cell_type": "markdown",
   "metadata": {},
   "source": [
    "Este código implementa uma função de reconhecimento de fala (ou speech recognition em inglês). Essa tecnologia permite que dispositivos como computadores e smartphones transcrevam a fala humana em texto em tempo real.\n",
    "\n",
    "Como funciona:\n",
    "\n",
    "1) Acesso ao microfone: O código solicita permissão para utilizar o microfone do dispositivo.\n",
    "2) Captura da fala: Enquanto o usuário fala, o áudio é capturado pelo microfone.\n",
    "3) Processamento da fala: O áudio capturado é enviado para um motor de reconhecimento de fala, que o analisa e converte em texto.\n",
    "4) Exibição do texto: O texto gerado é exibido na tela, geralmente de forma instantânea."
   ]
  },
  {
   "cell_type": "code",
   "execution_count": null,
   "metadata": {},
   "outputs": [],
   "source": [
    "# Instalação de biblioteca\n",
    "\n",
    "%pip install SpeechRecognition"
   ]
  },
  {
   "cell_type": "code",
   "execution_count": null,
   "metadata": {},
   "outputs": [],
   "source": [
    "# Importando biblioteca\n",
    "\n",
    "import speech_recognition as sr"
   ]
  },
  {
   "cell_type": "code",
   "execution_count": null,
   "metadata": {},
   "outputs": [],
   "source": [
    "# Executar o ouvir\n",
    "\n",
    "ouvir_microfone()"
   ]
  },
  {
   "cell_type": "markdown",
   "metadata": {},
   "source": [
    "Aplicações do reconhecimento de fala:\n",
    "\n",
    "1) Assistentes virtuais: Como a Siri, o Google Assistant e a Alexa, que respondem a comandos de voz.\n",
    "2) Ditado de texto: Permite digitar documentos ou mensagens usando apenas a voz.\n",
    "3) Tradução em tempo real: Permite traduzir conversas em diferentes idiomas.\n",
    "4) Acessibilidade: Facilita a interação com dispositivos para pessoas com dificuldades motoras ou visuais.\n",
    "5) Automação: Permite controlar dispositivos e sistemas através de comandos de voz."
   ]
  },
  {
   "cell_type": "markdown",
   "metadata": {},
   "source": [
    "Tecnologias envolvidas:\n",
    "\n",
    "1) Microfones: Capturam o áudio com alta qualidade.\n",
    "2) Processamento de sinal: Filtra e amplifica o áudio para melhorar a qualidade.\n",
    "3) Modelos de linguagem: Utilizados para reconhecer padrões na fala e gerar o texto correspondente.\n",
    "4) Aprendizado de máquina: Permite que os modelos de linguagem se adaptem a diferentes vozes e acentos."
   ]
  },
  {
   "cell_type": "markdown",
   "metadata": {},
   "source": [
    "Desafios:\n",
    "\n",
    "1) Ruídos: Ruídos de fundo podem interferir na precisão da transcrição.\n",
    "2) Acentos e dialetos: Dificultam o reconhecimento de palavras e frases.\n",
    "3) Velocidade da fala: Falar muito rápido ou muito devagar pode prejudicar a transcrição."
   ]
  },
  {
   "cell_type": "markdown",
   "metadata": {},
   "source": [
    "Mediante aos fatos apresentados é possível perceber que o reconhecimento de fala depende de alguns fatores, seja a qualidade do microfone, potência do dispositivo e/ou a complexidade da linguagem utilizada. Todos os fatores apresentados são de suma importância para uma boa performance do programa. Customizações são permitidas e são importantes para garantir uma boa execução das definições do escopo do desenvolvimento."
   ]
  },
  {
   "cell_type": "code",
   "execution_count": null,
   "metadata": {},
   "outputs": [],
   "source": [
    "# Instalação de bibliotecas\n",
    "\n",
    "%pip install urllib3==1.26.14\n",
    "%pip install wheel\n",
    "%pip install SpeechRecognition\n",
    "%pip install pyaudio\n",
    "%pip install gTTS\n",
    "%pip install playsound"
   ]
  },
  {
   "cell_type": "code",
   "execution_count": null,
   "metadata": {},
   "outputs": [],
   "source": [
    "# Importando bibliotecas\n",
    "\n",
    "import speech_recognition as sr\n",
    "from gtts import gTTS\n",
    "import pyaudio\n",
    "import playsound"
   ]
  },
  {
   "cell_type": "code",
   "execution_count": null,
   "metadata": {},
   "outputs": [],
   "source": [
    "# Listar dispositivo de audio\n",
    "\n",
    "p = pyaudio.PyAudio()\n",
    "for i in range(p.get_device_count()):\n",
    "    info = p.get_device_info_by_index(i)\n",
    "    print(info['index'], info['name'], info['maxInputChannels'])"
   ]
  },
  {
   "cell_type": "code",
   "execution_count": null,
   "metadata": {},
   "outputs": [],
   "source": [
    "def ouvir_microfone():\n",
    "    microfone = sr.Recognizer()  # Cria um objeto reconhecedor\n",
    "\n",
    "    try:\n",
    "        with sr.Microphone(device_index=0) as source:\n",
    "            microfone.adjust_for_ambient_noise(source)  # Ajusta para o ruído ambiente\n",
    "            print(\"Fale comigo:\")  # Aviso para o usuário\n",
    "            audio = microfone.listen(source)  # Escuta o áudio\n",
    "\n",
    "            try:\n",
    "                texto = microfone.recognize_google(audio, language='pt-BR')  # Reconhece o áudio\n",
    "                print(f\"Você disse: {texto}\")\n",
    "            except sr.UnknownValueError:\n",
    "                print(\"Não entendi o que você disse.\")\n",
    "            except sr.RequestError as e:\n",
    "                print(f\"Erro ao solicitar resultados do serviço de reconhecimento; {e}\")\n",
    "\n",
    "    except Exception as e:\n",
    "        print(f\"Erro ao acessar o microfone: {e}\")"
   ]
  },
  {
   "cell_type": "code",
   "execution_count": null,
   "metadata": {},
   "outputs": [],
   "source": [
    "# Executar o ouvir\n",
    "\n",
    "ouvir_microfone()"
   ]
  }
 ],
 "metadata": {
  "kernelspec": {
   "display_name": "Python 3",
   "language": "python",
   "name": "python3"
  },
  "language_info": {
   "codemirror_mode": {
    "name": "ipython",
    "version": 3
   },
   "file_extension": ".py",
   "mimetype": "text/x-python",
   "name": "python",
   "nbconvert_exporter": "python",
   "pygments_lexer": "ipython3",
   "version": "3.11.3"
  }
 },
 "nbformat": 4,
 "nbformat_minor": 2
}
