{
 "cells": [
  {
   "cell_type": "code",
   "execution_count": 1,
   "metadata": {},
   "outputs": [
    {
     "name": "stdout",
     "output_type": "stream",
     "text": [
      "Requirement already satisfied: urllib3==1.26.14 in c:\\users\\barbara.rosa\\appdata\\local\\programs\\python\\python311\\lib\\site-packages (1.26.14)\n",
      "Note: you may need to restart the kernel to use updated packages.\n",
      "Requirement already satisfied: wheel in c:\\users\\barbara.rosa\\appdata\\local\\programs\\python\\python311\\lib\\site-packages (0.43.0)Note: you may need to restart the kernel to use updated packages.\n",
      "\n",
      "Requirement already satisfied: SpeechRecognition in c:\\users\\barbara.rosa\\appdata\\local\\programs\\python\\python311\\lib\\site-packages (3.10.4)\n",
      "Requirement already satisfied: requests>=2.26.0 in c:\\users\\barbara.rosa\\appdata\\local\\programs\\python\\python311\\lib\\site-packages (from SpeechRecognition) (2.32.3)\n",
      "Requirement already satisfied: typing-extensions in c:\\users\\barbara.rosa\\appdata\\roaming\\python\\python311\\site-packages (from SpeechRecognition) (4.12.2)\n",
      "Requirement already satisfied: charset-normalizer<4,>=2 in c:\\users\\barbara.rosa\\appdata\\local\\programs\\python\\python311\\lib\\site-packages (from requests>=2.26.0->SpeechRecognition) (3.3.2)\n",
      "Requirement already satisfied: idna<4,>=2.5 in c:\\users\\barbara.rosa\\appdata\\local\\programs\\python\\python311\\lib\\site-packages (from requests>=2.26.0->SpeechRecognition) (3.7)\n",
      "Requirement already satisfied: urllib3<3,>=1.21.1 in c:\\users\\barbara.rosa\\appdata\\local\\programs\\python\\python311\\lib\\site-packages (from requests>=2.26.0->SpeechRecognition) (1.26.14)\n",
      "Requirement already satisfied: certifi>=2017.4.17 in c:\\users\\barbara.rosa\\appdata\\local\\programs\\python\\python311\\lib\\site-packages (from requests>=2.26.0->SpeechRecognition) (2024.6.2)\n",
      "Note: you may need to restart the kernel to use updated packages.\n",
      "Collecting pyaudio\n",
      "  Downloading PyAudio-0.2.14-cp311-cp311-win_amd64.whl.metadata (2.7 kB)\n",
      "Downloading PyAudio-0.2.14-cp311-cp311-win_amd64.whl (164 kB)\n",
      "   ---------------------------------------- 0.0/164.1 kB ? eta -:--:--\n",
      "   ---------------------------------------- 164.1/164.1 kB 5.0 MB/s eta 0:00:00\n",
      "Installing collected packages: pyaudio\n",
      "Successfully installed pyaudio-0.2.14\n",
      "Note: you may need to restart the kernel to use updated packages.\n",
      "Collecting gTTSNote: you may need to restart the kernel to use updated packages.\n",
      "\n",
      "  Downloading gTTS-2.5.2-py3-none-any.whl.metadata (4.1 kB)\n",
      "Requirement already satisfied: requests<3,>=2.27 in c:\\users\\barbara.rosa\\appdata\\local\\programs\\python\\python311\\lib\\site-packages (from gTTS) (2.32.3)\n",
      "Requirement already satisfied: click<8.2,>=7.1 in c:\\users\\barbara.rosa\\appdata\\local\\programs\\python\\python311\\lib\\site-packages (from gTTS) (8.1.7)\n",
      "Requirement already satisfied: colorama in c:\\users\\barbara.rosa\\appdata\\roaming\\python\\python311\\site-packages (from click<8.2,>=7.1->gTTS) (0.4.6)\n",
      "Requirement already satisfied: charset-normalizer<4,>=2 in c:\\users\\barbara.rosa\\appdata\\local\\programs\\python\\python311\\lib\\site-packages (from requests<3,>=2.27->gTTS) (3.3.2)\n",
      "Requirement already satisfied: idna<4,>=2.5 in c:\\users\\barbara.rosa\\appdata\\local\\programs\\python\\python311\\lib\\site-packages (from requests<3,>=2.27->gTTS) (3.7)\n",
      "Requirement already satisfied: urllib3<3,>=1.21.1 in c:\\users\\barbara.rosa\\appdata\\local\\programs\\python\\python311\\lib\\site-packages (from requests<3,>=2.27->gTTS) (1.26.14)\n",
      "Requirement already satisfied: certifi>=2017.4.17 in c:\\users\\barbara.rosa\\appdata\\local\\programs\\python\\python311\\lib\\site-packages (from requests<3,>=2.27->gTTS) (2024.6.2)\n",
      "Downloading gTTS-2.5.2-py3-none-any.whl (29 kB)\n",
      "Installing collected packages: gTTS\n",
      "Successfully installed gTTS-2.5.2\n",
      "Collecting playsoundNote: you may need to restart the kernel to use updated packages.\n",
      "\n",
      "  Downloading playsound-1.3.0.tar.gz (7.7 kB)\n",
      "  Preparing metadata (setup.py): started\n",
      "  Preparing metadata (setup.py): finished with status 'done'\n",
      "Building wheels for collected packages: playsound\n",
      "  Building wheel for playsound (setup.py): started\n",
      "  Building wheel for playsound (setup.py): finished with status 'done'\n",
      "  Created wheel for playsound: filename=playsound-1.3.0-py3-none-any.whl size=7043 sha256=2b76a701d39a7ca3c5120ffcf13e2045de1de287b9a7aa2698e2501099c0f4fa\n",
      "  Stored in directory: c:\\users\\barbara.rosa\\appdata\\local\\pip\\cache\\wheels\\50\\98\\42\\62753a9e1fb97579a0ce2f84f7db4c21c09d03bb2091e6cef4\n",
      "Successfully built playsound\n",
      "Installing collected packages: playsound\n",
      "Successfully installed playsound-1.3.0\n"
     ]
    }
   ],
   "source": [
    "# Instalação de bibliotecas\n",
    "\n",
    "%pip install urllib3==1.26.14\n",
    "%pip install wheel\n",
    "%pip install SpeechRecognition\n",
    "%pip install pyaudio\n",
    "%pip install gTTS\n",
    "%pip install playsound"
   ]
  },
  {
   "cell_type": "code",
   "execution_count": 1,
   "metadata": {},
   "outputs": [],
   "source": [
    "# Importando bibliotecas\n",
    "\n",
    "import speech_recognition as sr\n",
    "from gtts import gTTS\n",
    "import pyaudio\n",
    "import playsound"
   ]
  },
  {
   "cell_type": "code",
   "execution_count": 2,
   "metadata": {},
   "outputs": [
    {
     "name": "stdout",
     "output_type": "stream",
     "text": [
      "0 Microsoft Sound Mapper - Input 2\n",
      "1 Grupo de microfones (Tecnologia 4\n",
      "2 Microsoft Sound Mapper - Output 0\n",
      "3 Altofalantes (Realtek(R) Audio) 0\n",
      "4 Driver de captura de som primÃ¡rio 2\n",
      "5 Grupo de microfones (Tecnologia IntelÂ® Smart Sound para microfones digitais) 4\n",
      "6 Driver de som primÃ¡rio 0\n",
      "7 Altofalantes (Realtek(R) Audio) 0\n",
      "8 Altofalantes (Realtek(R) Audio) 0\n",
      "9 Grupo de microfones (Tecnologia IntelÂ® Smart Sound para microfones digitais) 2\n",
      "10 Mixagem estÃ©reo (Realtek HD Audio Stereo input) 2\n",
      "11 Headphones 1 (Realtek HD Audio 2nd output with SST) 0\n",
      "12 Headphones 2 (Realtek HD Audio 2nd output with SST) 0\n",
      "13 Alto-falante (Realtek HD Audio 2nd output with SST) 2\n",
      "14 Speakers 1 (Realtek HD Audio output with SST) 0\n",
      "15 Speakers 2 (Realtek HD Audio output with SST) 0\n",
      "16 Alto-falante (Realtek HD Audio output with SST) 2\n",
      "17 Microfone (Realtek HD Audio Mic input) 2\n",
      "18 Grupo de microfones 1 () 2\n",
      "19 Grupo de microfones 2 () 2\n",
      "20 Grupo de microfones 3 () 4\n",
      "21 Output (@System32\\drivers\\bthhfenum.sys,#4;%1 Hands-Free HF Audio%0\n",
      ";(ASUS_Z012DC)) 0\n",
      "22 Input (@System32\\drivers\\bthhfenum.sys,#4;%1 Hands-Free HF Audio%0\n",
      ";(ASUS_Z012DC)) 1\n",
      "23 Linha () 2\n",
      "24 Linha () 2\n",
      "25 Output (@System32\\drivers\\bthhfenum.sys,#4;%1 Hands-Free HF Audio%0\n",
      ";(Babi)) 0\n",
      "26 Input (@System32\\drivers\\bthhfenum.sys,#4;%1 Hands-Free HF Audio%0\n",
      ";(Babi)) 1\n"
     ]
    }
   ],
   "source": [
    "# Listar dispositivo de audio\n",
    "\n",
    "p = pyaudio.PyAudio()\n",
    "for i in range(p.get_device_count()):\n",
    "    info = p.get_device_info_by_index(i)\n",
    "    print(info['index'], info['name'], info['maxInputChannels'])"
   ]
  },
  {
   "cell_type": "code",
   "execution_count": 12,
   "metadata": {},
   "outputs": [],
   "source": [
    "def ouvir_microfone():\n",
    "    microfone = sr.Recognizer()  # Cria um objeto reconhecedor\n",
    "\n",
    "    try:\n",
    "        with sr.Microphone(device_index=0) as source:\n",
    "            microfone.adjust_for_ambient_noise(source)  # Ajusta para o ruído ambiente\n",
    "            print(\"Fale comigo:\")  # Aviso para o usuário\n",
    "            audio = microfone.listen(source)  # Escuta o áudio\n",
    "\n",
    "            try:\n",
    "                texto = microfone.recognize_google(audio, language='pt-BR')  # Reconhece o áudio\n",
    "                print(f\"Você disse: {texto}\")\n",
    "            except sr.UnknownValueError:\n",
    "                print(\"Não entendi o que você disse.\")\n",
    "            except sr.RequestError as e:\n",
    "                print(f\"Erro ao solicitar resultados do serviço de reconhecimento; {e}\")\n",
    "\n",
    "    except Exception as e:\n",
    "        print(f\"Erro ao acessar o microfone: {e}\")"
   ]
  },
  {
   "cell_type": "code",
   "execution_count": 13,
   "metadata": {},
   "outputs": [
    {
     "name": "stdout",
     "output_type": "stream",
     "text": [
      "Fale comigo:\n",
      "Você disse: eu queria saber se esse vai funcionar se esse áudio ele vai sair perfeitamente porque eu vou deixar no index zero se isso tudo der certo e for habilitado para funcionamento vai ser muito bacana esse teste e vai quebrar em 22 porque eu já percebi que é o tempo que ele dura rodando e não para não para não para não sei qual momento que ele consegue captar todas as informações que eu tô falando\n"
     ]
    }
   ],
   "source": [
    "# Executar o ouvir\n",
    "\n",
    "ouvir_microfone()"
   ]
  }
 ],
 "metadata": {
  "kernelspec": {
   "display_name": "Python 3",
   "language": "python",
   "name": "python3"
  },
  "language_info": {
   "codemirror_mode": {
    "name": "ipython",
    "version": 3
   },
   "file_extension": ".py",
   "mimetype": "text/x-python",
   "name": "python",
   "nbconvert_exporter": "python",
   "pygments_lexer": "ipython3",
   "version": "3.11.3"
  }
 },
 "nbformat": 4,
 "nbformat_minor": 2
}
